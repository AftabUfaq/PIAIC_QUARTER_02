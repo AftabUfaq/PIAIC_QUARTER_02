{
  "nbformat": 4,
  "nbformat_minor": 0,
  "metadata": {
    "colab": {
      "name": "PIAIC102905_Assignment_02",
      "provenance": [],
      "authorship_tag": "ABX9TyNFMuV6wwwKD4Z+zfrvg6Wu",
      "include_colab_link": true
    },
    "kernelspec": {
      "name": "python3",
      "display_name": "Python 3"
    }
  },
  "cells": [
    {
      "cell_type": "markdown",
      "metadata": {
        "id": "view-in-github",
        "colab_type": "text"
      },
      "source": [
        "<a href=\"https://colab.research.google.com/github/AftabUfaq/PIAIC_QUARTER_02/blob/main/PIAIC102905_Assignment_02.ipynb\" target=\"_parent\"><img src=\"https://colab.research.google.com/assets/colab-badge.svg\" alt=\"Open In Colab\"/></a>"
      ]
    },
    {
      "cell_type": "code",
      "metadata": {
        "id": "vaE2jMZo3SRe"
      },
      "source": [
        "import numpy as np\r\n",
        "\r\n",
        "# Task no 1\r\n",
        "def function1():\r\n",
        "    # create 2d array from 1,12 range \r\n",
        "    # dimension should be 6row 2 columns  \r\n",
        "    # and assign this array values in x values in x variable\r\n",
        "    # Hint: you can use arange and reshape numpy methods  \r\n",
        "    x =  np.arange(1,13).reshape((6,2)) \r\n",
        "\r\n",
        "    return x "
      ],
      "execution_count": 90,
      "outputs": []
    },
    {
      "cell_type": "code",
      "metadata": {
        "id": "aR81H9kN7W4o"
      },
      "source": [
        "# task 2\r\n",
        "def function2():\r\n",
        "    #create 3D array (3,3,3)\r\n",
        "    #must data type should have float64\r\n",
        "    #array value should be satart from 10 and end with 36 (both included)\r\n",
        "    # Hint: dtype, reshape \r\n",
        "    x = np.arange(10,37,dtype=np.float64).reshape((3,3,3))     \r\n",
        "    #wrtie your code here\r\n",
        "    return x"
      ],
      "execution_count": 89,
      "outputs": []
    },
    {
      "cell_type": "code",
      "metadata": {
        "id": "f41Nj6Fj-6DU"
      },
      "source": [
        "#task 3\r\n",
        "import numpy\r\n",
        "def function3():\r\n",
        "    #extract those numbers from given array. those are must exist in 5,7 Table\r\n",
        "    #example [35,70,105,..]\r\n",
        "    a = numpy.arange(1, 100*10+1).reshape((100,10))\r\n",
        "    g = nnmpy.array([])\r\n",
        "    i = 0 \r\n",
        "    for cell in numpy.nditer(a):\r\n",
        "      if(cell % 35 == 0):\r\n",
        "        g = numpy.append(g, cell)\r\n",
        "    return g"
      ],
      "execution_count": 88,
      "outputs": []
    },
    {
      "cell_type": "code",
      "metadata": {
        "id": "kVacdzBZDjoa"
      },
      "source": [
        "# task 4\r\n",
        "import numpy as np\r\n",
        "def function4():\r\n",
        "    #Swap columns 1 and 2 in the array arr.\r\n",
        "   \r\n",
        "    arr = np.arange(9).reshape(3,3)\r\n",
        "    arr[:,[0, 1]] = arr[:,[1, 0]]\r\n",
        "    return  (arr)    "
      ],
      "execution_count": 87,
      "outputs": []
    },
    {
      "cell_type": "code",
      "metadata": {
        "id": "BrA2KKX0FQJ3"
      },
      "source": [
        "#task 5\r\n",
        "import numpy as np\r\n",
        "def function5():\r\n",
        "    #Create a null vector of size 20 with 4 rows and 5 columns with numpy function\r\n",
        "    z = np.full((4,5),0)\r\n",
        "    return z"
      ],
      "execution_count": 86,
      "outputs": []
    },
    {
      "cell_type": "code",
      "metadata": {
        "id": "HirPjrq6H_LT"
      },
      "source": [
        "#task 6\r\n",
        "def function6():\r\n",
        "    # Create a null vector of size 10 but the fifth and eighth value which is 10,20 respectively\r\n",
        "    arr =  np.zeros(10)\r\n",
        "    arr[4] = 10\r\n",
        "    arr[7] = 20\r\n",
        "    return arr"
      ],
      "execution_count": 85,
      "outputs": []
    },
    {
      "cell_type": "code",
      "metadata": {
        "id": "uHBcqHkCIdeh"
      },
      "source": [
        "#task7\r\n",
        "def function7():\r\n",
        "    x = np.arange(4, dtype=np.int64)\r\n",
        "    return np.zeros_like(x)\r\n",
        "    "
      ],
      "execution_count": 84,
      "outputs": []
    },
    {
      "cell_type": "code",
      "metadata": {
        "id": "wvWK4ofQI7dI"
      },
      "source": [
        "#task 8\r\n",
        "def function8():\r\n",
        "    # Create a new array of 2x5 uints, filled with 6.\r\n",
        "    x = np.full((2, 5), 6, dtype=np.uint)\r\n",
        "    return x"
      ],
      "execution_count": 83,
      "outputs": []
    },
    {
      "cell_type": "code",
      "metadata": {
        "id": "PdQcDwvdJmEi"
      },
      "source": [
        "#task 9   \r\n",
        "def function9():\r\n",
        "    # Create an array of 2, 4, 6, 8, ..., 100.\r\n",
        "    a = np.arange(2,101,2)\r\n",
        "    return a"
      ],
      "execution_count": 82,
      "outputs": []
    },
    {
      "cell_type": "code",
      "metadata": {
        "id": "jgKE1AaoJmge"
      },
      "source": [
        "#task 10\r\n",
        "def function10():\r\n",
        "    # Subtract the 1d array brr from the 2d array arr, such that each item of brr subtracts from respective row of arr.\r\n",
        "    \r\n",
        "    arr = np.array([[3,3,3],[4,4,4],[5,5,5]])\r\n",
        "    brr = np.array([1,2,3])\r\n",
        "    subt = arr-brr[:,None] \r\n",
        "  \r\n",
        "    return subt"
      ],
      "execution_count": 81,
      "outputs": []
    },
    {
      "cell_type": "code",
      "metadata": {
        "id": "Zfn42W9yKHw6"
      },
      "source": [
        "#task11\r\n",
        "def function11():\r\n",
        "    # Replace all odd numbers in arr with -1 without changing arr.\r\n",
        "    arr = np.array([0, 1, 2, 3, 4, 5, 6, 7, 8, 9])\r\n",
        "    ans = arr[arr%2 == 1] = -1 \r\n",
        "    return ans"
      ],
      "execution_count": 80,
      "outputs": []
    },
    {
      "cell_type": "code",
      "metadata": {
        "id": "Do2eRzcZKZmd"
      },
      "source": [
        "#task12\r\n",
        "def function12():\r\n",
        "    # Create the following pattern without hardcoding. Use only numpy functions and the below input array arr.\r\n",
        "    # HINT: use stacking concept\r\n",
        "    arr = np.array([1,2,3])\r\n",
        "    ans1 = np.dstack((arr,arr,arr)).flatten()\r\n",
        "    ans2 = np.hstack((arr,arr,arr))\r\n",
        "    ans = np.concatenate((ans1, ans2), axis=None) \r\n",
        "    return ans"
      ],
      "execution_count": 79,
      "outputs": []
    },
    {
      "cell_type": "code",
      "metadata": {
        "id": "XkFKijI1KrTl"
      },
      "source": [
        "#task13\r\n",
        "def function13():\r\n",
        "    # Set a condition which gets all items between 5 and 10 from arr.\r\n",
        "    \r\n",
        "    \r\n",
        "    arr = np.array([2, 6, 1, 9, 10, 3, 27])\r\n",
        "    ans = arr[(arr>5)*(arr<10)] \r\n",
        "    return ans"
      ],
      "execution_count": 78,
      "outputs": []
    },
    {
      "cell_type": "code",
      "metadata": {
        "id": "0h7OhkN6Krko"
      },
      "source": [
        "#task14\r\n",
        "def function14():\r\n",
        "    arr = np.arange(10, 34, 1) #write reshape code\r\n",
        "    ans = np.split(arr, 4) \r\n",
        "    return ans"
      ],
      "execution_count": 77,
      "outputs": []
    },
    {
      "cell_type": "code",
      "metadata": {
        "id": "E2gYzvhsKr24"
      },
      "source": [
        "#task15\r\n",
        "def function15():\r\n",
        "    #Sort following NumPy array by the second column\r\n",
        "    arr = np.array([[ 8,  2, -2],[-4,  1,  7],[ 6,  3,  9]])\r\n",
        "    ans = arr[arr[:,1].argsort()]\r\n",
        "    return ans"
      ],
      "execution_count": 76,
      "outputs": []
    },
    {
      "cell_type": "code",
      "metadata": {
        "id": "tXOUJIMgLQM6"
      },
      "source": [
        "#task16\r\n",
        "def function16():\r\n",
        "    #Write a NumPy program to join a sequence of arrays along depth.\r\n",
        "    \r\n",
        "    \r\n",
        "    x = np.array([[1], [2], [3]])\r\n",
        "    y = np.array([[2], [3], [4]])\r\n",
        "    ans = np.concatenate((x, y), axis=1)  \r\n",
        "  \r\n",
        "    return ans"
      ],
      "execution_count": 75,
      "outputs": []
    },
    {
      "cell_type": "code",
      "metadata": {
        "id": "-6FPAoPemFD1"
      },
      "source": [
        "#Task17\r\n",
        "def function17():\r\n",
        "    # replace numbers with \"YES\" if it divided by 3 and 5\r\n",
        "    # otherwise it will be replaced with \"NO\"\r\n",
        "    # Hint: np.where\r\n",
        "    arr = np.arange(1,10*10+1).reshape((10,10))\r\n",
        "    arr = np.where((arr %  3 == 0) & (arr % 5 == 0) , 'YES', 'NO') \r\n",
        "    return arr "
      ],
      "execution_count": 74,
      "outputs": []
    },
    {
      "cell_type": "code",
      "metadata": {
        "id": "0ngqrPF3LQs-"
      },
      "source": [
        "#Task18\r\n",
        "def function18():\r\n",
        "    # count values of \"students\" are exist in \"piaic\"\r\n",
        "    piaic = np.arange(100)\r\n",
        "    students = np.array([5,20,50,200,301,7001])\r\n",
        "    x = np.count_nonzero((np.intersect1d(students, piaic)) )\r\n",
        "    return x"
      ],
      "execution_count": 73,
      "outputs": []
    },
    {
      "cell_type": "code",
      "metadata": {
        "id": "vwij8-cMLQ3M"
      },
      "source": [
        "# Task19\r\n",
        "def function19():\r\n",
        "    #Create variable \"X\" from 1,25 (both are included) range values\r\n",
        "    #Convert \"X\" variable dimension into 5 rows and 5 columns\r\n",
        "    #Create one more variable \"W\" copy of \"X\" \r\n",
        "    #Swap \"W\" row and column axis (like transpose)\r\n",
        "    # then create variable \"b\" with value equal to 5\r\n",
        "    # Now return output as \"(X*W)+b:\r\n",
        "\r\n",
        "    X =   np.arange(1, 26, 1).reshape(5,5) \r\n",
        "    W =  X.transpose() # Write your code here \r\n",
        "    b =  5 # Write your code here\r\n",
        "    return (X*W)+b    "
      ],
      "execution_count": 71,
      "outputs": []
    },
    {
      "cell_type": "code",
      "metadata": {
        "id": "oGNXxX5ZLQ_9"
      },
      "source": [
        "#Task20\r\n",
        "def function20():\r\n",
        "    #apply fuction \"abc\" on each value of Array \"X\"\r\n",
        "    x = np.arange(1,11)\r\n",
        "    g = np.array([])\r\n",
        "    def abc(x):\r\n",
        "        return x*2+3-2\r\n",
        "    for cell in np.nditer(x):\r\n",
        "      g = abc(x)\r\n",
        "    return g    "
      ],
      "execution_count": 70,
      "outputs": []
    }
  ]
}